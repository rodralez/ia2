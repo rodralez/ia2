{
 "cells": [
  {
   "cell_type": "markdown",
   "metadata": {},
   "source": [
    "# Reglas de asociación en compras de productos alimenticios\n",
    "\n",
    "El objetivo del notebook es aplicar el algoritmo Apriori para descubrir reglas de asociación entre productos alimentarios, en una canasta de compra.\n",
    "\n",
    "![](./pictures/AffinityAnalysis.png)"
   ]
  },
  {
   "cell_type": "code",
   "execution_count": 3,
   "metadata": {},
   "outputs": [],
   "source": [
    "import pandas as pd\n",
    "import numpy as np\n",
    "import matplotlib.pyplot as plt\n",
    "import seaborn as sns\n",
    "import plotly.express as px\n",
    "import nbformat"
   ]
  },
  {
   "cell_type": "markdown",
   "metadata": {},
   "source": [
    "## Cargando datos"
   ]
  },
  {
   "cell_type": "code",
   "execution_count": 4,
   "metadata": {},
   "outputs": [
    {
     "name": "stdout",
     "output_type": "stream",
     "text": [
      "<class 'pandas.core.frame.DataFrame'>\n",
      "RangeIndex: 38765 entries, 0 to 38764\n",
      "Data columns (total 3 columns):\n",
      " #   Column           Non-Null Count  Dtype \n",
      "---  ------           --------------  ----- \n",
      " 0   Member_number    38765 non-null  int64 \n",
      " 1   Date             38765 non-null  object\n",
      " 2   itemDescription  38765 non-null  object\n",
      "dtypes: int64(1), object(2)\n",
      "memory usage: 908.7+ KB\n"
     ]
    }
   ],
   "source": [
    "df = pd.read_csv(\"./data/Groceries_dataset.csv\")\n",
    "df.info()"
   ]
  },
  {
   "cell_type": "code",
   "execution_count": 5,
   "metadata": {},
   "outputs": [
    {
     "data": {
      "text/plain": [
       "38765"
      ]
     },
     "execution_count": 5,
     "metadata": {},
     "output_type": "execute_result"
    }
   ],
   "source": [
    "df[\"itemDescription\"].count()"
   ]
  },
  {
   "cell_type": "code",
   "execution_count": 6,
   "metadata": {},
   "outputs": [
    {
     "name": "stdout",
     "output_type": "stream",
     "text": [
      "<class 'pandas.core.frame.DataFrame'>\n",
      "RangeIndex: 38765 entries, 0 to 38764\n",
      "Data columns (total 3 columns):\n",
      " #   Column           Non-Null Count  Dtype         \n",
      "---  ------           --------------  -----         \n",
      " 0   Member_number    38765 non-null  int64         \n",
      " 1   Date             38765 non-null  datetime64[ns]\n",
      " 2   itemDescription  38765 non-null  object        \n",
      "dtypes: datetime64[ns](1), int64(1), object(1)\n",
      "memory usage: 908.7+ KB\n"
     ]
    }
   ],
   "source": [
    "# Conversión del feature Date a datetime\n",
    "df.Date = pd.to_datetime(df.Date, dayfirst=True)\n",
    "df.info() "
   ]
  },
  {
   "cell_type": "code",
   "execution_count": 7,
   "metadata": {},
   "outputs": [
    {
     "data": {
      "text/plain": [
       "Member_number      0\n",
       "Date               0\n",
       "itemDescription    0\n",
       "dtype: int64"
      ]
     },
     "execution_count": 7,
     "metadata": {},
     "output_type": "execute_result"
    }
   ],
   "source": [
    "nan_values = df.isna().sum()\n",
    "nan_values"
   ]
  },
  {
   "cell_type": "markdown",
   "metadata": {},
   "source": [
    "## Visualización de datos"
   ]
  },
  {
   "cell_type": "markdown",
   "metadata": {},
   "source": [
    "Top 50 de los productos alimentarios más consumidos"
   ]
  },
  {
   "cell_type": "code",
   "execution_count": 8,
   "metadata": {},
   "outputs": [
    {
     "name": "stdout",
     "output_type": "stream",
     "text": [
      "<module 'nbformat' from '/media/SharedVolume/ciencias_computacion/4_inteligencia_artificial_II/notebooks/MarketBasketAnalysis/.venv/lib/python3.11/site-packages/nbformat/__init__.py'>\n"
     ]
    },
    {
     "data": {
      "application/vnd.plotly.v1+json": {
       "config": {
        "plotlyServerURL": "https://plot.ly"
       },
       "data": [
        {
         "branchvalues": "total",
         "domain": {
          "x": [
           0,
           1
          ],
          "y": [
           0,
           1
          ]
         },
         "hovertemplate": "labels=%{label}<br>count=%{value}<br>parent=%{parent}<br>id=%{id}<extra></extra>",
         "ids": [
          "UHT-milk",
          "beef",
          "berries",
          "beverages",
          "bottled beer",
          "bottled water",
          "brown bread",
          "butter",
          "butter milk",
          "canned beer",
          "chicken",
          "chocolate",
          "citrus fruit",
          "coffee",
          "cream cheese ",
          "curd",
          "dessert",
          "domestic eggs",
          "frankfurter",
          "frozen meals",
          "frozen vegetables",
          "fruit/vegetable juice",
          "ham",
          "hamburger meat",
          "ice cream",
          "long life bakery product",
          "margarine",
          "meat",
          "misc. beverages",
          "napkins",
          "newspapers",
          "onions",
          "other vegetables",
          "pastry",
          "pip fruit",
          "pork",
          "rolls/buns",
          "root vegetables",
          "salty snack",
          "sausage",
          "shopping bags",
          "soda",
          "specialty chocolate",
          "sugar",
          "tropical fruit",
          "waffles",
          "whipped/sour cream",
          "white bread",
          "whole milk",
          "yogurt"
         ],
         "labels": [
          "UHT-milk",
          "beef",
          "berries",
          "beverages",
          "bottled beer",
          "bottled water",
          "brown bread",
          "butter",
          "butter milk",
          "canned beer",
          "chicken",
          "chocolate",
          "citrus fruit",
          "coffee",
          "cream cheese ",
          "curd",
          "dessert",
          "domestic eggs",
          "frankfurter",
          "frozen meals",
          "frozen vegetables",
          "fruit/vegetable juice",
          "ham",
          "hamburger meat",
          "ice cream",
          "long life bakery product",
          "margarine",
          "meat",
          "misc. beverages",
          "napkins",
          "newspapers",
          "onions",
          "other vegetables",
          "pastry",
          "pip fruit",
          "pork",
          "rolls/buns",
          "root vegetables",
          "salty snack",
          "sausage",
          "shopping bags",
          "soda",
          "specialty chocolate",
          "sugar",
          "tropical fruit",
          "waffles",
          "whipped/sour cream",
          "white bread",
          "whole milk",
          "yogurt"
         ],
         "name": "",
         "parents": [
          "",
          "",
          "",
          "",
          "",
          "",
          "",
          "",
          "",
          "",
          "",
          "",
          "",
          "",
          "",
          "",
          "",
          "",
          "",
          "",
          "",
          "",
          "",
          "",
          "",
          "",
          "",
          "",
          "",
          "",
          "",
          "",
          "",
          "",
          "",
          "",
          "",
          "",
          "",
          "",
          "",
          "",
          "",
          "",
          "",
          "",
          "",
          "",
          "",
          ""
         ],
         "textinfo": "label+value",
         "type": "treemap",
         "values": [
          323,
          516,
          327,
          251,
          687,
          933,
          571,
          534,
          263,
          717,
          422,
          357,
          812,
          476,
          358,
          514,
          356,
          566,
          580,
          252,
          425,
          518,
          256,
          327,
          227,
          269,
          491,
          254,
          238,
          335,
          596,
          305,
          1898,
          785,
          744,
          566,
          1716,
          1071,
          283,
          924,
          731,
          1514,
          240,
          265,
          1032,
          280,
          662,
          362,
          2502,
          1334
         ]
        }
       ],
       "layout": {
        "legend": {
         "tracegroupgap": 0
        },
        "margin": {
         "t": 60
        },
        "template": {
         "data": {
          "bar": [
           {
            "error_x": {
             "color": "#2a3f5f"
            },
            "error_y": {
             "color": "#2a3f5f"
            },
            "marker": {
             "line": {
              "color": "#E5ECF6",
              "width": 0.5
             },
             "pattern": {
              "fillmode": "overlay",
              "size": 10,
              "solidity": 0.2
             }
            },
            "type": "bar"
           }
          ],
          "barpolar": [
           {
            "marker": {
             "line": {
              "color": "#E5ECF6",
              "width": 0.5
             },
             "pattern": {
              "fillmode": "overlay",
              "size": 10,
              "solidity": 0.2
             }
            },
            "type": "barpolar"
           }
          ],
          "carpet": [
           {
            "aaxis": {
             "endlinecolor": "#2a3f5f",
             "gridcolor": "white",
             "linecolor": "white",
             "minorgridcolor": "white",
             "startlinecolor": "#2a3f5f"
            },
            "baxis": {
             "endlinecolor": "#2a3f5f",
             "gridcolor": "white",
             "linecolor": "white",
             "minorgridcolor": "white",
             "startlinecolor": "#2a3f5f"
            },
            "type": "carpet"
           }
          ],
          "choropleth": [
           {
            "colorbar": {
             "outlinewidth": 0,
             "ticks": ""
            },
            "type": "choropleth"
           }
          ],
          "contour": [
           {
            "colorbar": {
             "outlinewidth": 0,
             "ticks": ""
            },
            "colorscale": [
             [
              0,
              "#0d0887"
             ],
             [
              0.1111111111111111,
              "#46039f"
             ],
             [
              0.2222222222222222,
              "#7201a8"
             ],
             [
              0.3333333333333333,
              "#9c179e"
             ],
             [
              0.4444444444444444,
              "#bd3786"
             ],
             [
              0.5555555555555556,
              "#d8576b"
             ],
             [
              0.6666666666666666,
              "#ed7953"
             ],
             [
              0.7777777777777778,
              "#fb9f3a"
             ],
             [
              0.8888888888888888,
              "#fdca26"
             ],
             [
              1,
              "#f0f921"
             ]
            ],
            "type": "contour"
           }
          ],
          "contourcarpet": [
           {
            "colorbar": {
             "outlinewidth": 0,
             "ticks": ""
            },
            "type": "contourcarpet"
           }
          ],
          "heatmap": [
           {
            "colorbar": {
             "outlinewidth": 0,
             "ticks": ""
            },
            "colorscale": [
             [
              0,
              "#0d0887"
             ],
             [
              0.1111111111111111,
              "#46039f"
             ],
             [
              0.2222222222222222,
              "#7201a8"
             ],
             [
              0.3333333333333333,
              "#9c179e"
             ],
             [
              0.4444444444444444,
              "#bd3786"
             ],
             [
              0.5555555555555556,
              "#d8576b"
             ],
             [
              0.6666666666666666,
              "#ed7953"
             ],
             [
              0.7777777777777778,
              "#fb9f3a"
             ],
             [
              0.8888888888888888,
              "#fdca26"
             ],
             [
              1,
              "#f0f921"
             ]
            ],
            "type": "heatmap"
           }
          ],
          "heatmapgl": [
           {
            "colorbar": {
             "outlinewidth": 0,
             "ticks": ""
            },
            "colorscale": [
             [
              0,
              "#0d0887"
             ],
             [
              0.1111111111111111,
              "#46039f"
             ],
             [
              0.2222222222222222,
              "#7201a8"
             ],
             [
              0.3333333333333333,
              "#9c179e"
             ],
             [
              0.4444444444444444,
              "#bd3786"
             ],
             [
              0.5555555555555556,
              "#d8576b"
             ],
             [
              0.6666666666666666,
              "#ed7953"
             ],
             [
              0.7777777777777778,
              "#fb9f3a"
             ],
             [
              0.8888888888888888,
              "#fdca26"
             ],
             [
              1,
              "#f0f921"
             ]
            ],
            "type": "heatmapgl"
           }
          ],
          "histogram": [
           {
            "marker": {
             "pattern": {
              "fillmode": "overlay",
              "size": 10,
              "solidity": 0.2
             }
            },
            "type": "histogram"
           }
          ],
          "histogram2d": [
           {
            "colorbar": {
             "outlinewidth": 0,
             "ticks": ""
            },
            "colorscale": [
             [
              0,
              "#0d0887"
             ],
             [
              0.1111111111111111,
              "#46039f"
             ],
             [
              0.2222222222222222,
              "#7201a8"
             ],
             [
              0.3333333333333333,
              "#9c179e"
             ],
             [
              0.4444444444444444,
              "#bd3786"
             ],
             [
              0.5555555555555556,
              "#d8576b"
             ],
             [
              0.6666666666666666,
              "#ed7953"
             ],
             [
              0.7777777777777778,
              "#fb9f3a"
             ],
             [
              0.8888888888888888,
              "#fdca26"
             ],
             [
              1,
              "#f0f921"
             ]
            ],
            "type": "histogram2d"
           }
          ],
          "histogram2dcontour": [
           {
            "colorbar": {
             "outlinewidth": 0,
             "ticks": ""
            },
            "colorscale": [
             [
              0,
              "#0d0887"
             ],
             [
              0.1111111111111111,
              "#46039f"
             ],
             [
              0.2222222222222222,
              "#7201a8"
             ],
             [
              0.3333333333333333,
              "#9c179e"
             ],
             [
              0.4444444444444444,
              "#bd3786"
             ],
             [
              0.5555555555555556,
              "#d8576b"
             ],
             [
              0.6666666666666666,
              "#ed7953"
             ],
             [
              0.7777777777777778,
              "#fb9f3a"
             ],
             [
              0.8888888888888888,
              "#fdca26"
             ],
             [
              1,
              "#f0f921"
             ]
            ],
            "type": "histogram2dcontour"
           }
          ],
          "mesh3d": [
           {
            "colorbar": {
             "outlinewidth": 0,
             "ticks": ""
            },
            "type": "mesh3d"
           }
          ],
          "parcoords": [
           {
            "line": {
             "colorbar": {
              "outlinewidth": 0,
              "ticks": ""
             }
            },
            "type": "parcoords"
           }
          ],
          "pie": [
           {
            "automargin": true,
            "type": "pie"
           }
          ],
          "scatter": [
           {
            "fillpattern": {
             "fillmode": "overlay",
             "size": 10,
             "solidity": 0.2
            },
            "type": "scatter"
           }
          ],
          "scatter3d": [
           {
            "line": {
             "colorbar": {
              "outlinewidth": 0,
              "ticks": ""
             }
            },
            "marker": {
             "colorbar": {
              "outlinewidth": 0,
              "ticks": ""
             }
            },
            "type": "scatter3d"
           }
          ],
          "scattercarpet": [
           {
            "marker": {
             "colorbar": {
              "outlinewidth": 0,
              "ticks": ""
             }
            },
            "type": "scattercarpet"
           }
          ],
          "scattergeo": [
           {
            "marker": {
             "colorbar": {
              "outlinewidth": 0,
              "ticks": ""
             }
            },
            "type": "scattergeo"
           }
          ],
          "scattergl": [
           {
            "marker": {
             "colorbar": {
              "outlinewidth": 0,
              "ticks": ""
             }
            },
            "type": "scattergl"
           }
          ],
          "scattermapbox": [
           {
            "marker": {
             "colorbar": {
              "outlinewidth": 0,
              "ticks": ""
             }
            },
            "type": "scattermapbox"
           }
          ],
          "scatterpolar": [
           {
            "marker": {
             "colorbar": {
              "outlinewidth": 0,
              "ticks": ""
             }
            },
            "type": "scatterpolar"
           }
          ],
          "scatterpolargl": [
           {
            "marker": {
             "colorbar": {
              "outlinewidth": 0,
              "ticks": ""
             }
            },
            "type": "scatterpolargl"
           }
          ],
          "scatterternary": [
           {
            "marker": {
             "colorbar": {
              "outlinewidth": 0,
              "ticks": ""
             }
            },
            "type": "scatterternary"
           }
          ],
          "surface": [
           {
            "colorbar": {
             "outlinewidth": 0,
             "ticks": ""
            },
            "colorscale": [
             [
              0,
              "#0d0887"
             ],
             [
              0.1111111111111111,
              "#46039f"
             ],
             [
              0.2222222222222222,
              "#7201a8"
             ],
             [
              0.3333333333333333,
              "#9c179e"
             ],
             [
              0.4444444444444444,
              "#bd3786"
             ],
             [
              0.5555555555555556,
              "#d8576b"
             ],
             [
              0.6666666666666666,
              "#ed7953"
             ],
             [
              0.7777777777777778,
              "#fb9f3a"
             ],
             [
              0.8888888888888888,
              "#fdca26"
             ],
             [
              1,
              "#f0f921"
             ]
            ],
            "type": "surface"
           }
          ],
          "table": [
           {
            "cells": {
             "fill": {
              "color": "#EBF0F8"
             },
             "line": {
              "color": "white"
             }
            },
            "header": {
             "fill": {
              "color": "#C8D4E3"
             },
             "line": {
              "color": "white"
             }
            },
            "type": "table"
           }
          ]
         },
         "layout": {
          "annotationdefaults": {
           "arrowcolor": "#2a3f5f",
           "arrowhead": 0,
           "arrowwidth": 1
          },
          "autotypenumbers": "strict",
          "coloraxis": {
           "colorbar": {
            "outlinewidth": 0,
            "ticks": ""
           }
          },
          "colorscale": {
           "diverging": [
            [
             0,
             "#8e0152"
            ],
            [
             0.1,
             "#c51b7d"
            ],
            [
             0.2,
             "#de77ae"
            ],
            [
             0.3,
             "#f1b6da"
            ],
            [
             0.4,
             "#fde0ef"
            ],
            [
             0.5,
             "#f7f7f7"
            ],
            [
             0.6,
             "#e6f5d0"
            ],
            [
             0.7,
             "#b8e186"
            ],
            [
             0.8,
             "#7fbc41"
            ],
            [
             0.9,
             "#4d9221"
            ],
            [
             1,
             "#276419"
            ]
           ],
           "sequential": [
            [
             0,
             "#0d0887"
            ],
            [
             0.1111111111111111,
             "#46039f"
            ],
            [
             0.2222222222222222,
             "#7201a8"
            ],
            [
             0.3333333333333333,
             "#9c179e"
            ],
            [
             0.4444444444444444,
             "#bd3786"
            ],
            [
             0.5555555555555556,
             "#d8576b"
            ],
            [
             0.6666666666666666,
             "#ed7953"
            ],
            [
             0.7777777777777778,
             "#fb9f3a"
            ],
            [
             0.8888888888888888,
             "#fdca26"
            ],
            [
             1,
             "#f0f921"
            ]
           ],
           "sequentialminus": [
            [
             0,
             "#0d0887"
            ],
            [
             0.1111111111111111,
             "#46039f"
            ],
            [
             0.2222222222222222,
             "#7201a8"
            ],
            [
             0.3333333333333333,
             "#9c179e"
            ],
            [
             0.4444444444444444,
             "#bd3786"
            ],
            [
             0.5555555555555556,
             "#d8576b"
            ],
            [
             0.6666666666666666,
             "#ed7953"
            ],
            [
             0.7777777777777778,
             "#fb9f3a"
            ],
            [
             0.8888888888888888,
             "#fdca26"
            ],
            [
             1,
             "#f0f921"
            ]
           ]
          },
          "colorway": [
           "#636efa",
           "#EF553B",
           "#00cc96",
           "#ab63fa",
           "#FFA15A",
           "#19d3f3",
           "#FF6692",
           "#B6E880",
           "#FF97FF",
           "#FECB52"
          ],
          "font": {
           "color": "#2a3f5f"
          },
          "geo": {
           "bgcolor": "white",
           "lakecolor": "white",
           "landcolor": "#E5ECF6",
           "showlakes": true,
           "showland": true,
           "subunitcolor": "white"
          },
          "hoverlabel": {
           "align": "left"
          },
          "hovermode": "closest",
          "mapbox": {
           "style": "light"
          },
          "paper_bgcolor": "white",
          "plot_bgcolor": "#E5ECF6",
          "polar": {
           "angularaxis": {
            "gridcolor": "white",
            "linecolor": "white",
            "ticks": ""
           },
           "bgcolor": "#E5ECF6",
           "radialaxis": {
            "gridcolor": "white",
            "linecolor": "white",
            "ticks": ""
           }
          },
          "scene": {
           "xaxis": {
            "backgroundcolor": "#E5ECF6",
            "gridcolor": "white",
            "gridwidth": 2,
            "linecolor": "white",
            "showbackground": true,
            "ticks": "",
            "zerolinecolor": "white"
           },
           "yaxis": {
            "backgroundcolor": "#E5ECF6",
            "gridcolor": "white",
            "gridwidth": 2,
            "linecolor": "white",
            "showbackground": true,
            "ticks": "",
            "zerolinecolor": "white"
           },
           "zaxis": {
            "backgroundcolor": "#E5ECF6",
            "gridcolor": "white",
            "gridwidth": 2,
            "linecolor": "white",
            "showbackground": true,
            "ticks": "",
            "zerolinecolor": "white"
           }
          },
          "shapedefaults": {
           "line": {
            "color": "#2a3f5f"
           }
          },
          "ternary": {
           "aaxis": {
            "gridcolor": "white",
            "linecolor": "white",
            "ticks": ""
           },
           "baxis": {
            "gridcolor": "white",
            "linecolor": "white",
            "ticks": ""
           },
           "bgcolor": "#E5ECF6",
           "caxis": {
            "gridcolor": "white",
            "linecolor": "white",
            "ticks": ""
           }
          },
          "title": {
           "x": 0.05
          },
          "xaxis": {
           "automargin": true,
           "gridcolor": "white",
           "linecolor": "white",
           "ticks": "",
           "title": {
            "standoff": 15
           },
           "zerolinecolor": "white",
           "zerolinewidth": 2
          },
          "yaxis": {
           "automargin": true,
           "gridcolor": "white",
           "linecolor": "white",
           "ticks": "",
           "title": {
            "standoff": 15
           },
           "zerolinecolor": "white",
           "zerolinewidth": 2
          }
         }
        },
        "title": {
         "font": {
          "size": 18
         },
         "text": "Frequency of the Top 50 Items Sold",
         "x": 0.5
        }
       }
      }
     },
     "metadata": {},
     "output_type": "display_data"
    }
   ],
   "source": [
    "\n",
    "frequency_of_items = df.groupby(pd.Grouper(key='itemDescription')).size().reset_index(name='count').sort_values([\"count\"], ascending=False)\n",
    "fi_50=frequency_of_items.head(50)\n",
    "fig = px.treemap(fi_50, path=['itemDescription'], values='count')\n",
    "fig.update_layout(title_text='Frequency of the Top 50 Items Sold',\n",
    "                  title_x=0.5, title_font=dict(size=18)\n",
    "                  )\n",
    "fig.update_traces(textinfo=\"label+value\")\n",
    "fig.show()"
   ]
  },
  {
   "cell_type": "markdown",
   "metadata": {},
   "source": [
    "## Aplicando Apriori\n",
    "Aplicaremos la técnica de Reglas de Asociación , mediante el algoritmo APriori. El objetivo es encontrar relaciones entre los productos alimenticios que compra la gente, por cada visita que hacen al mercado."
   ]
  },
  {
   "cell_type": "code",
   "execution_count": 9,
   "metadata": {},
   "outputs": [],
   "source": [
    "from mlxtend.frequent_patterns import apriori, association_rules\n",
    "from mlxtend.preprocessing import TransactionEncoder"
   ]
  },
  {
   "cell_type": "markdown",
   "metadata": {},
   "source": [
    "### Preparación de datos"
   ]
  },
  {
   "cell_type": "code",
   "execution_count": 10,
   "metadata": {},
   "outputs": [
    {
     "data": {
      "text/plain": [
       "[['whole milk', 'pastry', 'salty snack'],\n",
       " ['sausage', 'whole milk', 'semi-finished bread', 'yogurt'],\n",
       " ['soda', 'pickled vegetables'],\n",
       " ['canned beer', 'misc. beverages'],\n",
       " ['sausage', 'hygiene articles'],\n",
       " ['sausage', 'whole milk', 'rolls/buns'],\n",
       " ['whole milk', 'soda'],\n",
       " ['frankfurter', 'soda', 'whipped/sour cream'],\n",
       " ['beef', 'white bread'],\n",
       " ['frankfurter', 'curd']]"
      ]
     },
     "execution_count": 10,
     "metadata": {},
     "output_type": "execute_result"
    }
   ],
   "source": [
    "all_transactions = [transaction[1]['itemDescription'].tolist() for transaction in list(df.groupby(['Member_number', 'Date']))]\n",
    "all_transactions[0:10]"
   ]
  },
  {
   "cell_type": "code",
   "execution_count": 11,
   "metadata": {},
   "outputs": [
    {
     "data": {
      "text/html": [
       "<div>\n",
       "<style scoped>\n",
       "    .dataframe tbody tr th:only-of-type {\n",
       "        vertical-align: middle;\n",
       "    }\n",
       "\n",
       "    .dataframe tbody tr th {\n",
       "        vertical-align: top;\n",
       "    }\n",
       "\n",
       "    .dataframe thead th {\n",
       "        text-align: right;\n",
       "    }\n",
       "</style>\n",
       "<table border=\"1\" class=\"dataframe\">\n",
       "  <thead>\n",
       "    <tr style=\"text-align: right;\">\n",
       "      <th></th>\n",
       "      <th>Instant food products</th>\n",
       "      <th>UHT-milk</th>\n",
       "      <th>abrasive cleaner</th>\n",
       "      <th>artif. sweetener</th>\n",
       "      <th>baby cosmetics</th>\n",
       "      <th>bags</th>\n",
       "      <th>baking powder</th>\n",
       "      <th>bathroom cleaner</th>\n",
       "      <th>beef</th>\n",
       "      <th>berries</th>\n",
       "      <th>...</th>\n",
       "      <th>turkey</th>\n",
       "      <th>vinegar</th>\n",
       "      <th>waffles</th>\n",
       "      <th>whipped/sour cream</th>\n",
       "      <th>whisky</th>\n",
       "      <th>white bread</th>\n",
       "      <th>white wine</th>\n",
       "      <th>whole milk</th>\n",
       "      <th>yogurt</th>\n",
       "      <th>zwieback</th>\n",
       "    </tr>\n",
       "  </thead>\n",
       "  <tbody>\n",
       "    <tr>\n",
       "      <th>0</th>\n",
       "      <td>False</td>\n",
       "      <td>False</td>\n",
       "      <td>False</td>\n",
       "      <td>False</td>\n",
       "      <td>False</td>\n",
       "      <td>False</td>\n",
       "      <td>False</td>\n",
       "      <td>False</td>\n",
       "      <td>False</td>\n",
       "      <td>False</td>\n",
       "      <td>...</td>\n",
       "      <td>False</td>\n",
       "      <td>False</td>\n",
       "      <td>False</td>\n",
       "      <td>False</td>\n",
       "      <td>False</td>\n",
       "      <td>False</td>\n",
       "      <td>False</td>\n",
       "      <td>True</td>\n",
       "      <td>False</td>\n",
       "      <td>False</td>\n",
       "    </tr>\n",
       "    <tr>\n",
       "      <th>1</th>\n",
       "      <td>False</td>\n",
       "      <td>False</td>\n",
       "      <td>False</td>\n",
       "      <td>False</td>\n",
       "      <td>False</td>\n",
       "      <td>False</td>\n",
       "      <td>False</td>\n",
       "      <td>False</td>\n",
       "      <td>False</td>\n",
       "      <td>False</td>\n",
       "      <td>...</td>\n",
       "      <td>False</td>\n",
       "      <td>False</td>\n",
       "      <td>False</td>\n",
       "      <td>False</td>\n",
       "      <td>False</td>\n",
       "      <td>False</td>\n",
       "      <td>False</td>\n",
       "      <td>True</td>\n",
       "      <td>True</td>\n",
       "      <td>False</td>\n",
       "    </tr>\n",
       "    <tr>\n",
       "      <th>2</th>\n",
       "      <td>False</td>\n",
       "      <td>False</td>\n",
       "      <td>False</td>\n",
       "      <td>False</td>\n",
       "      <td>False</td>\n",
       "      <td>False</td>\n",
       "      <td>False</td>\n",
       "      <td>False</td>\n",
       "      <td>False</td>\n",
       "      <td>False</td>\n",
       "      <td>...</td>\n",
       "      <td>False</td>\n",
       "      <td>False</td>\n",
       "      <td>False</td>\n",
       "      <td>False</td>\n",
       "      <td>False</td>\n",
       "      <td>False</td>\n",
       "      <td>False</td>\n",
       "      <td>False</td>\n",
       "      <td>False</td>\n",
       "      <td>False</td>\n",
       "    </tr>\n",
       "    <tr>\n",
       "      <th>3</th>\n",
       "      <td>False</td>\n",
       "      <td>False</td>\n",
       "      <td>False</td>\n",
       "      <td>False</td>\n",
       "      <td>False</td>\n",
       "      <td>False</td>\n",
       "      <td>False</td>\n",
       "      <td>False</td>\n",
       "      <td>False</td>\n",
       "      <td>False</td>\n",
       "      <td>...</td>\n",
       "      <td>False</td>\n",
       "      <td>False</td>\n",
       "      <td>False</td>\n",
       "      <td>False</td>\n",
       "      <td>False</td>\n",
       "      <td>False</td>\n",
       "      <td>False</td>\n",
       "      <td>False</td>\n",
       "      <td>False</td>\n",
       "      <td>False</td>\n",
       "    </tr>\n",
       "    <tr>\n",
       "      <th>4</th>\n",
       "      <td>False</td>\n",
       "      <td>False</td>\n",
       "      <td>False</td>\n",
       "      <td>False</td>\n",
       "      <td>False</td>\n",
       "      <td>False</td>\n",
       "      <td>False</td>\n",
       "      <td>False</td>\n",
       "      <td>False</td>\n",
       "      <td>False</td>\n",
       "      <td>...</td>\n",
       "      <td>False</td>\n",
       "      <td>False</td>\n",
       "      <td>False</td>\n",
       "      <td>False</td>\n",
       "      <td>False</td>\n",
       "      <td>False</td>\n",
       "      <td>False</td>\n",
       "      <td>False</td>\n",
       "      <td>False</td>\n",
       "      <td>False</td>\n",
       "    </tr>\n",
       "  </tbody>\n",
       "</table>\n",
       "<p>5 rows × 167 columns</p>\n",
       "</div>"
      ],
      "text/plain": [
       "   Instant food products  UHT-milk  abrasive cleaner  artif. sweetener  \\\n",
       "0                  False     False             False             False   \n",
       "1                  False     False             False             False   \n",
       "2                  False     False             False             False   \n",
       "3                  False     False             False             False   \n",
       "4                  False     False             False             False   \n",
       "\n",
       "   baby cosmetics   bags  baking powder  bathroom cleaner   beef  berries  \\\n",
       "0           False  False          False             False  False    False   \n",
       "1           False  False          False             False  False    False   \n",
       "2           False  False          False             False  False    False   \n",
       "3           False  False          False             False  False    False   \n",
       "4           False  False          False             False  False    False   \n",
       "\n",
       "   ...  turkey  vinegar  waffles  whipped/sour cream  whisky  white bread  \\\n",
       "0  ...   False    False    False               False   False        False   \n",
       "1  ...   False    False    False               False   False        False   \n",
       "2  ...   False    False    False               False   False        False   \n",
       "3  ...   False    False    False               False   False        False   \n",
       "4  ...   False    False    False               False   False        False   \n",
       "\n",
       "   white wine  whole milk  yogurt  zwieback  \n",
       "0       False        True   False     False  \n",
       "1       False        True    True     False  \n",
       "2       False       False   False     False  \n",
       "3       False       False   False     False  \n",
       "4       False       False   False     False  \n",
       "\n",
       "[5 rows x 167 columns]"
      ]
     },
     "execution_count": 11,
     "metadata": {},
     "output_type": "execute_result"
    }
   ],
   "source": [
    "te = TransactionEncoder()\n",
    "te_ary = te.fit(all_transactions).transform(all_transactions)\n",
    "trans_encoder_matrix = pd.DataFrame(te_ary, columns=te.columns_)\n",
    "trans_encoder_matrix.head()\n",
    "\n"
   ]
  },
  {
   "cell_type": "markdown",
   "metadata": {},
   "source": [
    "### Apriori"
   ]
  },
  {
   "cell_type": "code",
   "execution_count": 12,
   "metadata": {},
   "outputs": [
    {
     "data": {
      "text/html": [
       "<div>\n",
       "<style scoped>\n",
       "    .dataframe tbody tr th:only-of-type {\n",
       "        vertical-align: middle;\n",
       "    }\n",
       "\n",
       "    .dataframe tbody tr th {\n",
       "        vertical-align: top;\n",
       "    }\n",
       "\n",
       "    .dataframe thead th {\n",
       "        text-align: right;\n",
       "    }\n",
       "</style>\n",
       "<table border=\"1\" class=\"dataframe\">\n",
       "  <thead>\n",
       "    <tr style=\"text-align: right;\">\n",
       "      <th></th>\n",
       "      <th>support</th>\n",
       "      <th>itemsets</th>\n",
       "      <th>length</th>\n",
       "    </tr>\n",
       "  </thead>\n",
       "  <tbody>\n",
       "    <tr>\n",
       "      <th>0</th>\n",
       "      <td>0.004010</td>\n",
       "      <td>(Instant food products)</td>\n",
       "      <td>1</td>\n",
       "    </tr>\n",
       "    <tr>\n",
       "      <th>1</th>\n",
       "      <td>0.021386</td>\n",
       "      <td>(UHT-milk)</td>\n",
       "      <td>1</td>\n",
       "    </tr>\n",
       "    <tr>\n",
       "      <th>2</th>\n",
       "      <td>0.001470</td>\n",
       "      <td>(abrasive cleaner)</td>\n",
       "      <td>1</td>\n",
       "    </tr>\n",
       "    <tr>\n",
       "      <th>3</th>\n",
       "      <td>0.001938</td>\n",
       "      <td>(artif. sweetener)</td>\n",
       "      <td>1</td>\n",
       "    </tr>\n",
       "    <tr>\n",
       "      <th>4</th>\n",
       "      <td>0.008087</td>\n",
       "      <td>(baking powder)</td>\n",
       "      <td>1</td>\n",
       "    </tr>\n",
       "    <tr>\n",
       "      <th>...</th>\n",
       "      <td>...</td>\n",
       "      <td>...</td>\n",
       "      <td>...</td>\n",
       "    </tr>\n",
       "    <tr>\n",
       "      <th>745</th>\n",
       "      <td>0.001136</td>\n",
       "      <td>(sausage, rolls/buns, whole milk)</td>\n",
       "      <td>3</td>\n",
       "    </tr>\n",
       "    <tr>\n",
       "      <th>746</th>\n",
       "      <td>0.001002</td>\n",
       "      <td>(soda, rolls/buns, whole milk)</td>\n",
       "      <td>3</td>\n",
       "    </tr>\n",
       "    <tr>\n",
       "      <th>747</th>\n",
       "      <td>0.001337</td>\n",
       "      <td>(yogurt, rolls/buns, whole milk)</td>\n",
       "      <td>3</td>\n",
       "    </tr>\n",
       "    <tr>\n",
       "      <th>748</th>\n",
       "      <td>0.001069</td>\n",
       "      <td>(sausage, soda, whole milk)</td>\n",
       "      <td>3</td>\n",
       "    </tr>\n",
       "    <tr>\n",
       "      <th>749</th>\n",
       "      <td>0.001470</td>\n",
       "      <td>(yogurt, sausage, whole milk)</td>\n",
       "      <td>3</td>\n",
       "    </tr>\n",
       "  </tbody>\n",
       "</table>\n",
       "<p>750 rows × 3 columns</p>\n",
       "</div>"
      ],
      "text/plain": [
       "      support                           itemsets  length\n",
       "0    0.004010            (Instant food products)       1\n",
       "1    0.021386                         (UHT-milk)       1\n",
       "2    0.001470                 (abrasive cleaner)       1\n",
       "3    0.001938                 (artif. sweetener)       1\n",
       "4    0.008087                    (baking powder)       1\n",
       "..        ...                                ...     ...\n",
       "745  0.001136  (sausage, rolls/buns, whole milk)       3\n",
       "746  0.001002     (soda, rolls/buns, whole milk)       3\n",
       "747  0.001337   (yogurt, rolls/buns, whole milk)       3\n",
       "748  0.001069        (sausage, soda, whole milk)       3\n",
       "749  0.001470      (yogurt, sausage, whole milk)       3\n",
       "\n",
       "[750 rows x 3 columns]"
      ]
     },
     "execution_count": 12,
     "metadata": {},
     "output_type": "execute_result"
    }
   ],
   "source": [
    "frequent_itemsets=apriori(trans_encoder_matrix, min_support=0.001,  use_colnames=True)\n",
    "frequent_itemsets['length'] = frequent_itemsets['itemsets'].apply(lambda x: len(x))\n",
    "frequent_itemsets"
   ]
  },
  {
   "cell_type": "markdown",
   "metadata": {},
   "source": [
    "Elementos de una canaste de compra con mayor soporte y que contengan más de 1 producto"
   ]
  },
  {
   "cell_type": "code",
   "execution_count": 13,
   "metadata": {},
   "outputs": [
    {
     "data": {
      "text/html": [
       "<div>\n",
       "<style scoped>\n",
       "    .dataframe tbody tr th:only-of-type {\n",
       "        vertical-align: middle;\n",
       "    }\n",
       "\n",
       "    .dataframe tbody tr th {\n",
       "        vertical-align: top;\n",
       "    }\n",
       "\n",
       "    .dataframe thead th {\n",
       "        text-align: right;\n",
       "    }\n",
       "</style>\n",
       "<table border=\"1\" class=\"dataframe\">\n",
       "  <thead>\n",
       "    <tr style=\"text-align: right;\">\n",
       "      <th></th>\n",
       "      <th>support</th>\n",
       "      <th>itemsets</th>\n",
       "      <th>length</th>\n",
       "    </tr>\n",
       "  </thead>\n",
       "  <tbody>\n",
       "    <tr>\n",
       "      <th>223</th>\n",
       "      <td>0.007151</td>\n",
       "      <td>(bottled beer, whole milk)</td>\n",
       "      <td>2</td>\n",
       "    </tr>\n",
       "    <tr>\n",
       "      <th>254</th>\n",
       "      <td>0.007151</td>\n",
       "      <td>(bottled water, whole milk)</td>\n",
       "      <td>2</td>\n",
       "    </tr>\n",
       "    <tr>\n",
       "      <th>390</th>\n",
       "      <td>0.007151</td>\n",
       "      <td>(citrus fruit, whole milk)</td>\n",
       "      <td>2</td>\n",
       "    </tr>\n",
       "    <tr>\n",
       "      <th>609</th>\n",
       "      <td>0.010559</td>\n",
       "      <td>(other vegetables, rolls/buns)</td>\n",
       "      <td>2</td>\n",
       "    </tr>\n",
       "    <tr>\n",
       "      <th>616</th>\n",
       "      <td>0.009691</td>\n",
       "      <td>(soda, other vegetables)</td>\n",
       "      <td>2</td>\n",
       "    </tr>\n",
       "    <tr>\n",
       "      <th>625</th>\n",
       "      <td>0.014837</td>\n",
       "      <td>(other vegetables, whole milk)</td>\n",
       "      <td>2</td>\n",
       "    </tr>\n",
       "    <tr>\n",
       "      <th>626</th>\n",
       "      <td>0.008087</td>\n",
       "      <td>(yogurt, other vegetables)</td>\n",
       "      <td>2</td>\n",
       "    </tr>\n",
       "    <tr>\n",
       "      <th>649</th>\n",
       "      <td>0.006616</td>\n",
       "      <td>(pip fruit, whole milk)</td>\n",
       "      <td>2</td>\n",
       "    </tr>\n",
       "    <tr>\n",
       "      <th>669</th>\n",
       "      <td>0.008087</td>\n",
       "      <td>(soda, rolls/buns)</td>\n",
       "      <td>2</td>\n",
       "    </tr>\n",
       "    <tr>\n",
       "      <th>677</th>\n",
       "      <td>0.013968</td>\n",
       "      <td>(rolls/buns, whole milk)</td>\n",
       "      <td>2</td>\n",
       "    </tr>\n",
       "    <tr>\n",
       "      <th>678</th>\n",
       "      <td>0.007819</td>\n",
       "      <td>(yogurt, rolls/buns)</td>\n",
       "      <td>2</td>\n",
       "    </tr>\n",
       "    <tr>\n",
       "      <th>688</th>\n",
       "      <td>0.007552</td>\n",
       "      <td>(root vegetables, whole milk)</td>\n",
       "      <td>2</td>\n",
       "    </tr>\n",
       "    <tr>\n",
       "      <th>701</th>\n",
       "      <td>0.008955</td>\n",
       "      <td>(sausage, whole milk)</td>\n",
       "      <td>2</td>\n",
       "    </tr>\n",
       "    <tr>\n",
       "      <th>717</th>\n",
       "      <td>0.011629</td>\n",
       "      <td>(soda, whole milk)</td>\n",
       "      <td>2</td>\n",
       "    </tr>\n",
       "    <tr>\n",
       "      <th>730</th>\n",
       "      <td>0.008220</td>\n",
       "      <td>(tropical fruit, whole milk)</td>\n",
       "      <td>2</td>\n",
       "    </tr>\n",
       "    <tr>\n",
       "      <th>740</th>\n",
       "      <td>0.011161</td>\n",
       "      <td>(yogurt, whole milk)</td>\n",
       "      <td>2</td>\n",
       "    </tr>\n",
       "  </tbody>\n",
       "</table>\n",
       "</div>"
      ],
      "text/plain": [
       "      support                        itemsets  length\n",
       "223  0.007151      (bottled beer, whole milk)       2\n",
       "254  0.007151     (bottled water, whole milk)       2\n",
       "390  0.007151      (citrus fruit, whole milk)       2\n",
       "609  0.010559  (other vegetables, rolls/buns)       2\n",
       "616  0.009691        (soda, other vegetables)       2\n",
       "625  0.014837  (other vegetables, whole milk)       2\n",
       "626  0.008087      (yogurt, other vegetables)       2\n",
       "649  0.006616         (pip fruit, whole milk)       2\n",
       "669  0.008087              (soda, rolls/buns)       2\n",
       "677  0.013968        (rolls/buns, whole milk)       2\n",
       "678  0.007819            (yogurt, rolls/buns)       2\n",
       "688  0.007552   (root vegetables, whole milk)       2\n",
       "701  0.008955           (sausage, whole milk)       2\n",
       "717  0.011629              (soda, whole milk)       2\n",
       "730  0.008220    (tropical fruit, whole milk)       2\n",
       "740  0.011161            (yogurt, whole milk)       2"
      ]
     },
     "execution_count": 13,
     "metadata": {},
     "output_type": "execute_result"
    }
   ],
   "source": [
    "frequent_itemsets[ (frequent_itemsets['length'] >= 2) &\n",
    "                   (frequent_itemsets['support'] >= 0.0065) ]"
   ]
  },
  {
   "cell_type": "markdown",
   "metadata": {},
   "source": [
    "### Reglas de asociación usando confidence"
   ]
  },
  {
   "cell_type": "code",
   "execution_count": 14,
   "metadata": {},
   "outputs": [
    {
     "data": {
      "text/html": [
       "<div>\n",
       "<style scoped>\n",
       "    .dataframe tbody tr th:only-of-type {\n",
       "        vertical-align: middle;\n",
       "    }\n",
       "\n",
       "    .dataframe tbody tr th {\n",
       "        vertical-align: top;\n",
       "    }\n",
       "\n",
       "    .dataframe thead th {\n",
       "        text-align: right;\n",
       "    }\n",
       "</style>\n",
       "<table border=\"1\" class=\"dataframe\">\n",
       "  <thead>\n",
       "    <tr style=\"text-align: right;\">\n",
       "      <th></th>\n",
       "      <th>antecedents</th>\n",
       "      <th>consequents</th>\n",
       "      <th>antecedent support</th>\n",
       "      <th>consequent support</th>\n",
       "      <th>support</th>\n",
       "      <th>confidence</th>\n",
       "      <th>lift</th>\n",
       "      <th>leverage</th>\n",
       "      <th>conviction</th>\n",
       "      <th>zhangs_metric</th>\n",
       "    </tr>\n",
       "  </thead>\n",
       "  <tbody>\n",
       "    <tr>\n",
       "      <th>234</th>\n",
       "      <td>(sausage, yogurt)</td>\n",
       "      <td>(whole milk)</td>\n",
       "      <td>0.005748</td>\n",
       "      <td>0.157923</td>\n",
       "      <td>0.001470</td>\n",
       "      <td>0.255814</td>\n",
       "      <td>1.619866</td>\n",
       "      <td>0.000563</td>\n",
       "      <td>1.131541</td>\n",
       "      <td>0.384877</td>\n",
       "    </tr>\n",
       "    <tr>\n",
       "      <th>216</th>\n",
       "      <td>(sausage, rolls/buns)</td>\n",
       "      <td>(whole milk)</td>\n",
       "      <td>0.005347</td>\n",
       "      <td>0.157923</td>\n",
       "      <td>0.001136</td>\n",
       "      <td>0.212500</td>\n",
       "      <td>1.345594</td>\n",
       "      <td>0.000292</td>\n",
       "      <td>1.069304</td>\n",
       "      <td>0.258214</td>\n",
       "    </tr>\n",
       "    <tr>\n",
       "      <th>228</th>\n",
       "      <td>(sausage, soda)</td>\n",
       "      <td>(whole milk)</td>\n",
       "      <td>0.005948</td>\n",
       "      <td>0.157923</td>\n",
       "      <td>0.001069</td>\n",
       "      <td>0.179775</td>\n",
       "      <td>1.138374</td>\n",
       "      <td>0.000130</td>\n",
       "      <td>1.026642</td>\n",
       "      <td>0.122281</td>\n",
       "    </tr>\n",
       "    <tr>\n",
       "      <th>202</th>\n",
       "      <td>(semi-finished bread)</td>\n",
       "      <td>(whole milk)</td>\n",
       "      <td>0.009490</td>\n",
       "      <td>0.157923</td>\n",
       "      <td>0.001671</td>\n",
       "      <td>0.176056</td>\n",
       "      <td>1.114825</td>\n",
       "      <td>0.000172</td>\n",
       "      <td>1.022008</td>\n",
       "      <td>0.103985</td>\n",
       "    </tr>\n",
       "    <tr>\n",
       "      <th>222</th>\n",
       "      <td>(yogurt, rolls/buns)</td>\n",
       "      <td>(whole milk)</td>\n",
       "      <td>0.007819</td>\n",
       "      <td>0.157923</td>\n",
       "      <td>0.001337</td>\n",
       "      <td>0.170940</td>\n",
       "      <td>1.082428</td>\n",
       "      <td>0.000102</td>\n",
       "      <td>1.015701</td>\n",
       "      <td>0.076751</td>\n",
       "    </tr>\n",
       "    <tr>\n",
       "      <th>...</th>\n",
       "      <td>...</td>\n",
       "      <td>...</td>\n",
       "      <td>...</td>\n",
       "      <td>...</td>\n",
       "      <td>...</td>\n",
       "      <td>...</td>\n",
       "      <td>...</td>\n",
       "      <td>...</td>\n",
       "      <td>...</td>\n",
       "      <td>...</td>\n",
       "    </tr>\n",
       "    <tr>\n",
       "      <th>112</th>\n",
       "      <td>(whole milk)</td>\n",
       "      <td>(detergent)</td>\n",
       "      <td>0.157923</td>\n",
       "      <td>0.008621</td>\n",
       "      <td>0.001403</td>\n",
       "      <td>0.008887</td>\n",
       "      <td>1.030824</td>\n",
       "      <td>0.000042</td>\n",
       "      <td>1.000268</td>\n",
       "      <td>0.035510</td>\n",
       "    </tr>\n",
       "    <tr>\n",
       "      <th>227</th>\n",
       "      <td>(whole milk)</td>\n",
       "      <td>(yogurt, rolls/buns)</td>\n",
       "      <td>0.157923</td>\n",
       "      <td>0.007819</td>\n",
       "      <td>0.001337</td>\n",
       "      <td>0.008464</td>\n",
       "      <td>1.082428</td>\n",
       "      <td>0.000102</td>\n",
       "      <td>1.000650</td>\n",
       "      <td>0.090433</td>\n",
       "    </tr>\n",
       "    <tr>\n",
       "      <th>174</th>\n",
       "      <td>(other vegetables)</td>\n",
       "      <td>(pot plants)</td>\n",
       "      <td>0.122101</td>\n",
       "      <td>0.007819</td>\n",
       "      <td>0.001002</td>\n",
       "      <td>0.008210</td>\n",
       "      <td>1.049991</td>\n",
       "      <td>0.000048</td>\n",
       "      <td>1.000394</td>\n",
       "      <td>0.054233</td>\n",
       "    </tr>\n",
       "    <tr>\n",
       "      <th>221</th>\n",
       "      <td>(whole milk)</td>\n",
       "      <td>(sausage, rolls/buns)</td>\n",
       "      <td>0.157923</td>\n",
       "      <td>0.005347</td>\n",
       "      <td>0.001136</td>\n",
       "      <td>0.007194</td>\n",
       "      <td>1.345594</td>\n",
       "      <td>0.000292</td>\n",
       "      <td>1.001861</td>\n",
       "      <td>0.305000</td>\n",
       "    </tr>\n",
       "    <tr>\n",
       "      <th>233</th>\n",
       "      <td>(whole milk)</td>\n",
       "      <td>(sausage, soda)</td>\n",
       "      <td>0.157923</td>\n",
       "      <td>0.005948</td>\n",
       "      <td>0.001069</td>\n",
       "      <td>0.006771</td>\n",
       "      <td>1.138374</td>\n",
       "      <td>0.000130</td>\n",
       "      <td>1.000829</td>\n",
       "      <td>0.144350</td>\n",
       "    </tr>\n",
       "  </tbody>\n",
       "</table>\n",
       "<p>240 rows × 10 columns</p>\n",
       "</div>"
      ],
      "text/plain": [
       "               antecedents            consequents  antecedent support  \\\n",
       "234      (sausage, yogurt)           (whole milk)            0.005748   \n",
       "216  (sausage, rolls/buns)           (whole milk)            0.005347   \n",
       "228        (sausage, soda)           (whole milk)            0.005948   \n",
       "202  (semi-finished bread)           (whole milk)            0.009490   \n",
       "222   (yogurt, rolls/buns)           (whole milk)            0.007819   \n",
       "..                     ...                    ...                 ...   \n",
       "112           (whole milk)            (detergent)            0.157923   \n",
       "227           (whole milk)   (yogurt, rolls/buns)            0.157923   \n",
       "174     (other vegetables)           (pot plants)            0.122101   \n",
       "221           (whole milk)  (sausage, rolls/buns)            0.157923   \n",
       "233           (whole milk)        (sausage, soda)            0.157923   \n",
       "\n",
       "     consequent support   support  confidence      lift  leverage  conviction  \\\n",
       "234            0.157923  0.001470    0.255814  1.619866  0.000563    1.131541   \n",
       "216            0.157923  0.001136    0.212500  1.345594  0.000292    1.069304   \n",
       "228            0.157923  0.001069    0.179775  1.138374  0.000130    1.026642   \n",
       "202            0.157923  0.001671    0.176056  1.114825  0.000172    1.022008   \n",
       "222            0.157923  0.001337    0.170940  1.082428  0.000102    1.015701   \n",
       "..                  ...       ...         ...       ...       ...         ...   \n",
       "112            0.008621  0.001403    0.008887  1.030824  0.000042    1.000268   \n",
       "227            0.007819  0.001337    0.008464  1.082428  0.000102    1.000650   \n",
       "174            0.007819  0.001002    0.008210  1.049991  0.000048    1.000394   \n",
       "221            0.005347  0.001136    0.007194  1.345594  0.000292    1.001861   \n",
       "233            0.005948  0.001069    0.006771  1.138374  0.000130    1.000829   \n",
       "\n",
       "     zhangs_metric  \n",
       "234       0.384877  \n",
       "216       0.258214  \n",
       "228       0.122281  \n",
       "202       0.103985  \n",
       "222       0.076751  \n",
       "..             ...  \n",
       "112       0.035510  \n",
       "227       0.090433  \n",
       "174       0.054233  \n",
       "221       0.305000  \n",
       "233       0.144350  \n",
       "\n",
       "[240 rows x 10 columns]"
      ]
     },
     "execution_count": 14,
     "metadata": {},
     "output_type": "execute_result"
    }
   ],
   "source": [
    "rules=association_rules(frequent_itemsets, metric=\"lift\", min_threshold=1).sort_values('confidence', ascending=False)\n",
    "rules"
   ]
  },
  {
   "cell_type": "code",
   "execution_count": 15,
   "metadata": {},
   "outputs": [],
   "source": [
    "rules[\"rule\"] = rules[\"antecedents\"].apply(lambda x: ', '.join(list(x))).astype(\"unicode\") + \" -> \" + rules[\"consequents\"].apply(lambda x: ', '.join(list(x))).astype(\"unicode\")\n",
    "rules_ = rules[[\"rule\", \"support\", \"confidence\", \"lift\"]]\n",
    "\n"
   ]
  },
  {
   "cell_type": "markdown",
   "metadata": {},
   "source": [
    "### Top 20 implicancias más fuertes en una canasta de compra (CONFIDENCE)\n",
    "El \"confidence\" mide la probabilidad de que la compra de un  conjunto de productos implique la compra de otro conjunto de productos\n",
    "\n",
    "$$ Confidence(A => B) = \\frac{P(A | B )}{P(A)} $$"
   ]
  },
  {
   "cell_type": "code",
   "execution_count": 16,
   "metadata": {},
   "outputs": [
    {
     "data": {
      "text/html": [
       "<div>\n",
       "<style scoped>\n",
       "    .dataframe tbody tr th:only-of-type {\n",
       "        vertical-align: middle;\n",
       "    }\n",
       "\n",
       "    .dataframe tbody tr th {\n",
       "        vertical-align: top;\n",
       "    }\n",
       "\n",
       "    .dataframe thead th {\n",
       "        text-align: right;\n",
       "    }\n",
       "</style>\n",
       "<table border=\"1\" class=\"dataframe\">\n",
       "  <thead>\n",
       "    <tr style=\"text-align: right;\">\n",
       "      <th></th>\n",
       "      <th>rule</th>\n",
       "      <th>support</th>\n",
       "      <th>confidence</th>\n",
       "      <th>lift</th>\n",
       "    </tr>\n",
       "  </thead>\n",
       "  <tbody>\n",
       "    <tr>\n",
       "      <th>234</th>\n",
       "      <td>sausage, yogurt -&gt; whole milk</td>\n",
       "      <td>0.001470</td>\n",
       "      <td>0.255814</td>\n",
       "      <td>1.619866</td>\n",
       "    </tr>\n",
       "    <tr>\n",
       "      <th>216</th>\n",
       "      <td>sausage, rolls/buns -&gt; whole milk</td>\n",
       "      <td>0.001136</td>\n",
       "      <td>0.212500</td>\n",
       "      <td>1.345594</td>\n",
       "    </tr>\n",
       "    <tr>\n",
       "      <th>228</th>\n",
       "      <td>sausage, soda -&gt; whole milk</td>\n",
       "      <td>0.001069</td>\n",
       "      <td>0.179775</td>\n",
       "      <td>1.138374</td>\n",
       "    </tr>\n",
       "    <tr>\n",
       "      <th>202</th>\n",
       "      <td>semi-finished bread -&gt; whole milk</td>\n",
       "      <td>0.001671</td>\n",
       "      <td>0.176056</td>\n",
       "      <td>1.114825</td>\n",
       "    </tr>\n",
       "    <tr>\n",
       "      <th>222</th>\n",
       "      <td>yogurt, rolls/buns -&gt; whole milk</td>\n",
       "      <td>0.001337</td>\n",
       "      <td>0.170940</td>\n",
       "      <td>1.082428</td>\n",
       "    </tr>\n",
       "    <tr>\n",
       "      <th>236</th>\n",
       "      <td>sausage, whole milk -&gt; yogurt</td>\n",
       "      <td>0.001470</td>\n",
       "      <td>0.164179</td>\n",
       "      <td>1.911760</td>\n",
       "    </tr>\n",
       "    <tr>\n",
       "      <th>113</th>\n",
       "      <td>detergent -&gt; whole milk</td>\n",
       "      <td>0.001403</td>\n",
       "      <td>0.162791</td>\n",
       "      <td>1.030824</td>\n",
       "    </tr>\n",
       "    <tr>\n",
       "      <th>146</th>\n",
       "      <td>ham -&gt; whole milk</td>\n",
       "      <td>0.002740</td>\n",
       "      <td>0.160156</td>\n",
       "      <td>1.014142</td>\n",
       "    </tr>\n",
       "    <tr>\n",
       "      <th>180</th>\n",
       "      <td>processed cheese -&gt; rolls/buns</td>\n",
       "      <td>0.001470</td>\n",
       "      <td>0.144737</td>\n",
       "      <td>1.315734</td>\n",
       "    </tr>\n",
       "    <tr>\n",
       "      <th>177</th>\n",
       "      <td>packaged fruit/vegetables -&gt; rolls/buns</td>\n",
       "      <td>0.001203</td>\n",
       "      <td>0.141732</td>\n",
       "      <td>1.288421</td>\n",
       "    </tr>\n",
       "    <tr>\n",
       "      <th>187</th>\n",
       "      <td>seasonal products -&gt; rolls/buns</td>\n",
       "      <td>0.001002</td>\n",
       "      <td>0.141509</td>\n",
       "      <td>1.286395</td>\n",
       "    </tr>\n",
       "    <tr>\n",
       "      <th>212</th>\n",
       "      <td>soda, rolls/buns -&gt; other vegetables</td>\n",
       "      <td>0.001136</td>\n",
       "      <td>0.140496</td>\n",
       "      <td>1.150651</td>\n",
       "    </tr>\n",
       "    <tr>\n",
       "      <th>129</th>\n",
       "      <td>frankfurter -&gt; other vegetables</td>\n",
       "      <td>0.005146</td>\n",
       "      <td>0.136283</td>\n",
       "      <td>1.116150</td>\n",
       "    </tr>\n",
       "    <tr>\n",
       "      <th>235</th>\n",
       "      <td>yogurt, whole milk -&gt; sausage</td>\n",
       "      <td>0.001470</td>\n",
       "      <td>0.131737</td>\n",
       "      <td>2.182917</td>\n",
       "    </tr>\n",
       "    <tr>\n",
       "      <th>175</th>\n",
       "      <td>pot plants -&gt; other vegetables</td>\n",
       "      <td>0.001002</td>\n",
       "      <td>0.128205</td>\n",
       "      <td>1.049991</td>\n",
       "    </tr>\n",
       "    <tr>\n",
       "      <th>130</th>\n",
       "      <td>frozen meals -&gt; other vegetables</td>\n",
       "      <td>0.002139</td>\n",
       "      <td>0.127490</td>\n",
       "      <td>1.044134</td>\n",
       "    </tr>\n",
       "    <tr>\n",
       "      <th>185</th>\n",
       "      <td>red/blush wine -&gt; rolls/buns</td>\n",
       "      <td>0.001337</td>\n",
       "      <td>0.127389</td>\n",
       "      <td>1.158028</td>\n",
       "    </tr>\n",
       "    <tr>\n",
       "      <th>163</th>\n",
       "      <td>meat -&gt; other vegetables</td>\n",
       "      <td>0.002139</td>\n",
       "      <td>0.126984</td>\n",
       "      <td>1.039991</td>\n",
       "    </tr>\n",
       "    <tr>\n",
       "      <th>217</th>\n",
       "      <td>sausage, whole milk -&gt; rolls/buns</td>\n",
       "      <td>0.001136</td>\n",
       "      <td>0.126866</td>\n",
       "      <td>1.153275</td>\n",
       "    </tr>\n",
       "    <tr>\n",
       "      <th>205</th>\n",
       "      <td>soft cheese -&gt; yogurt</td>\n",
       "      <td>0.001270</td>\n",
       "      <td>0.126667</td>\n",
       "      <td>1.474952</td>\n",
       "    </tr>\n",
       "  </tbody>\n",
       "</table>\n",
       "</div>"
      ],
      "text/plain": [
       "                                        rule   support  confidence      lift\n",
       "234            sausage, yogurt -> whole milk  0.001470    0.255814  1.619866\n",
       "216        sausage, rolls/buns -> whole milk  0.001136    0.212500  1.345594\n",
       "228              sausage, soda -> whole milk  0.001069    0.179775  1.138374\n",
       "202        semi-finished bread -> whole milk  0.001671    0.176056  1.114825\n",
       "222         yogurt, rolls/buns -> whole milk  0.001337    0.170940  1.082428\n",
       "236            sausage, whole milk -> yogurt  0.001470    0.164179  1.911760\n",
       "113                  detergent -> whole milk  0.001403    0.162791  1.030824\n",
       "146                        ham -> whole milk  0.002740    0.160156  1.014142\n",
       "180           processed cheese -> rolls/buns  0.001470    0.144737  1.315734\n",
       "177  packaged fruit/vegetables -> rolls/buns  0.001203    0.141732  1.288421\n",
       "187          seasonal products -> rolls/buns  0.001002    0.141509  1.286395\n",
       "212     soda, rolls/buns -> other vegetables  0.001136    0.140496  1.150651\n",
       "129          frankfurter -> other vegetables  0.005146    0.136283  1.116150\n",
       "235            yogurt, whole milk -> sausage  0.001470    0.131737  2.182917\n",
       "175           pot plants -> other vegetables  0.001002    0.128205  1.049991\n",
       "130         frozen meals -> other vegetables  0.002139    0.127490  1.044134\n",
       "185             red/blush wine -> rolls/buns  0.001337    0.127389  1.158028\n",
       "163                 meat -> other vegetables  0.002139    0.126984  1.039991\n",
       "217        sausage, whole milk -> rolls/buns  0.001136    0.126866  1.153275\n",
       "205                    soft cheese -> yogurt  0.001270    0.126667  1.474952"
      ]
     },
     "execution_count": 16,
     "metadata": {},
     "output_type": "execute_result"
    }
   ],
   "source": [
    "rules_.sort_values(\"confidence\", ascending=False).head(20)"
   ]
  },
  {
   "cell_type": "markdown",
   "metadata": {},
   "source": [
    "### Top 20 relaciones más fuertes en una canasta de compra (LIFT)\n",
    "El lift mide la fuerza de la relación entre dos elementos.  \n",
    "\n",
    "$$ Lift(A => B) = \\frac{P(A \\cap B )}{P(A) P(B)} $$"
   ]
  },
  {
   "cell_type": "markdown",
   "metadata": {},
   "source": []
  },
  {
   "cell_type": "code",
   "execution_count": 17,
   "metadata": {},
   "outputs": [
    {
     "data": {
      "text/html": [
       "<div>\n",
       "<style scoped>\n",
       "    .dataframe tbody tr th:only-of-type {\n",
       "        vertical-align: middle;\n",
       "    }\n",
       "\n",
       "    .dataframe tbody tr th {\n",
       "        vertical-align: top;\n",
       "    }\n",
       "\n",
       "    .dataframe thead th {\n",
       "        text-align: right;\n",
       "    }\n",
       "</style>\n",
       "<table border=\"1\" class=\"dataframe\">\n",
       "  <thead>\n",
       "    <tr style=\"text-align: right;\">\n",
       "      <th></th>\n",
       "      <th>rule</th>\n",
       "      <th>support</th>\n",
       "      <th>confidence</th>\n",
       "      <th>lift</th>\n",
       "    </tr>\n",
       "  </thead>\n",
       "  <tbody>\n",
       "    <tr>\n",
       "      <th>238</th>\n",
       "      <td>sausage -&gt; yogurt, whole milk</td>\n",
       "      <td>0.001470</td>\n",
       "      <td>0.024363</td>\n",
       "      <td>2.182917</td>\n",
       "    </tr>\n",
       "    <tr>\n",
       "      <th>236</th>\n",
       "      <td>sausage, whole milk -&gt; yogurt</td>\n",
       "      <td>0.001470</td>\n",
       "      <td>0.164179</td>\n",
       "      <td>1.911760</td>\n",
       "    </tr>\n",
       "    <tr>\n",
       "      <th>87</th>\n",
       "      <td>citrus fruit -&gt; specialty chocolate</td>\n",
       "      <td>0.001403</td>\n",
       "      <td>0.026415</td>\n",
       "      <td>1.653762</td>\n",
       "    </tr>\n",
       "    <tr>\n",
       "      <th>234</th>\n",
       "      <td>sausage, yogurt -&gt; whole milk</td>\n",
       "      <td>0.001470</td>\n",
       "      <td>0.255814</td>\n",
       "      <td>1.619866</td>\n",
       "    </tr>\n",
       "    <tr>\n",
       "      <th>122</th>\n",
       "      <td>tropical fruit -&gt; flour</td>\n",
       "      <td>0.001069</td>\n",
       "      <td>0.015779</td>\n",
       "      <td>1.617141</td>\n",
       "    </tr>\n",
       "    <tr>\n",
       "      <th>21</th>\n",
       "      <td>beverages -&gt; sausage</td>\n",
       "      <td>0.001537</td>\n",
       "      <td>0.092742</td>\n",
       "      <td>1.536764</td>\n",
       "    </tr>\n",
       "    <tr>\n",
       "      <th>231</th>\n",
       "      <td>sausage -&gt; soda, whole milk</td>\n",
       "      <td>0.001069</td>\n",
       "      <td>0.017719</td>\n",
       "      <td>1.523708</td>\n",
       "    </tr>\n",
       "    <tr>\n",
       "      <th>169</th>\n",
       "      <td>pastry -&gt; napkins</td>\n",
       "      <td>0.001738</td>\n",
       "      <td>0.033592</td>\n",
       "      <td>1.518529</td>\n",
       "    </tr>\n",
       "    <tr>\n",
       "      <th>182</th>\n",
       "      <td>processed cheese -&gt; root vegetables</td>\n",
       "      <td>0.001069</td>\n",
       "      <td>0.105263</td>\n",
       "      <td>1.513019</td>\n",
       "    </tr>\n",
       "    <tr>\n",
       "      <th>148</th>\n",
       "      <td>pip fruit -&gt; hard cheese</td>\n",
       "      <td>0.001069</td>\n",
       "      <td>0.021798</td>\n",
       "      <td>1.482586</td>\n",
       "    </tr>\n",
       "    <tr>\n",
       "      <th>204</th>\n",
       "      <td>yogurt -&gt; soft cheese</td>\n",
       "      <td>0.001270</td>\n",
       "      <td>0.014786</td>\n",
       "      <td>1.474952</td>\n",
       "    </tr>\n",
       "    <tr>\n",
       "      <th>103</th>\n",
       "      <td>curd -&gt; sausage</td>\n",
       "      <td>0.002941</td>\n",
       "      <td>0.087302</td>\n",
       "      <td>1.446615</td>\n",
       "    </tr>\n",
       "    <tr>\n",
       "      <th>115</th>\n",
       "      <td>detergent -&gt; yogurt</td>\n",
       "      <td>0.001069</td>\n",
       "      <td>0.124031</td>\n",
       "      <td>1.444261</td>\n",
       "    </tr>\n",
       "    <tr>\n",
       "      <th>34</th>\n",
       "      <td>bottled water -&gt; sugar</td>\n",
       "      <td>0.001470</td>\n",
       "      <td>0.024229</td>\n",
       "      <td>1.368074</td>\n",
       "    </tr>\n",
       "    <tr>\n",
       "      <th>66</th>\n",
       "      <td>canned beer -&gt; white bread</td>\n",
       "      <td>0.001537</td>\n",
       "      <td>0.032764</td>\n",
       "      <td>1.365573</td>\n",
       "    </tr>\n",
       "    <tr>\n",
       "      <th>36</th>\n",
       "      <td>brown bread -&gt; canned beer</td>\n",
       "      <td>0.002406</td>\n",
       "      <td>0.063943</td>\n",
       "      <td>1.362937</td>\n",
       "    </tr>\n",
       "    <tr>\n",
       "      <th>71</th>\n",
       "      <td>chewing gum -&gt; yogurt</td>\n",
       "      <td>0.001403</td>\n",
       "      <td>0.116667</td>\n",
       "      <td>1.358508</td>\n",
       "    </tr>\n",
       "    <tr>\n",
       "      <th>218</th>\n",
       "      <td>rolls/buns, whole milk -&gt; sausage</td>\n",
       "      <td>0.001136</td>\n",
       "      <td>0.081340</td>\n",
       "      <td>1.347825</td>\n",
       "    </tr>\n",
       "    <tr>\n",
       "      <th>216</th>\n",
       "      <td>sausage, rolls/buns -&gt; whole milk</td>\n",
       "      <td>0.001136</td>\n",
       "      <td>0.212500</td>\n",
       "      <td>1.345594</td>\n",
       "    </tr>\n",
       "    <tr>\n",
       "      <th>196</th>\n",
       "      <td>sausage -&gt; sliced cheese</td>\n",
       "      <td>0.001136</td>\n",
       "      <td>0.018826</td>\n",
       "      <td>1.341407</td>\n",
       "    </tr>\n",
       "  </tbody>\n",
       "</table>\n",
       "</div>"
      ],
      "text/plain": [
       "                                    rule   support  confidence      lift\n",
       "238        sausage -> yogurt, whole milk  0.001470    0.024363  2.182917\n",
       "236        sausage, whole milk -> yogurt  0.001470    0.164179  1.911760\n",
       "87   citrus fruit -> specialty chocolate  0.001403    0.026415  1.653762\n",
       "234        sausage, yogurt -> whole milk  0.001470    0.255814  1.619866\n",
       "122              tropical fruit -> flour  0.001069    0.015779  1.617141\n",
       "21                  beverages -> sausage  0.001537    0.092742  1.536764\n",
       "231          sausage -> soda, whole milk  0.001069    0.017719  1.523708\n",
       "169                    pastry -> napkins  0.001738    0.033592  1.518529\n",
       "182  processed cheese -> root vegetables  0.001069    0.105263  1.513019\n",
       "148             pip fruit -> hard cheese  0.001069    0.021798  1.482586\n",
       "204                yogurt -> soft cheese  0.001270    0.014786  1.474952\n",
       "103                      curd -> sausage  0.002941    0.087302  1.446615\n",
       "115                  detergent -> yogurt  0.001069    0.124031  1.444261\n",
       "34                bottled water -> sugar  0.001470    0.024229  1.368074\n",
       "66            canned beer -> white bread  0.001537    0.032764  1.365573\n",
       "36            brown bread -> canned beer  0.002406    0.063943  1.362937\n",
       "71                 chewing gum -> yogurt  0.001403    0.116667  1.358508\n",
       "218    rolls/buns, whole milk -> sausage  0.001136    0.081340  1.347825\n",
       "216    sausage, rolls/buns -> whole milk  0.001136    0.212500  1.345594\n",
       "196             sausage -> sliced cheese  0.001136    0.018826  1.341407"
      ]
     },
     "execution_count": 17,
     "metadata": {},
     "output_type": "execute_result"
    }
   ],
   "source": [
    "# Como el lift no distingue de consecuentes y antecedentes saltamos una fila por medio.\n",
    "rules_.sort_values(\"lift\", ascending=False).iloc[::2, :].head(20)"
   ]
  },
  {
   "cell_type": "markdown",
   "metadata": {},
   "source": [
    "La confianza de las reglas de asociación encontradas no fué muy alto para el dataset utilizado. Es decir, no se encontró una fuerte dependencia entre un conjunto de productos consecuentes con algún conjunto de productos antecedentes. La regla de asociación con mayor confidence (con 0.255) es la de \"si un cliente compra salchichas, es probable (con un 0.25) que compre yogurt y leche entera\".\n",
    "\n",
    "Con la métrica lift podemos observar que hay cierta asociación entre varios productos dentro de la canasta de compra."
   ]
  },
  {
   "cell_type": "code",
   "execution_count": null,
   "metadata": {},
   "outputs": [],
   "source": []
  }
 ],
 "metadata": {
  "kernelspec": {
   "display_name": ".venv",
   "language": "python",
   "name": "python3"
  },
  "language_info": {
   "codemirror_mode": {
    "name": "ipython",
    "version": 3
   },
   "file_extension": ".py",
   "mimetype": "text/x-python",
   "name": "python",
   "nbconvert_exporter": "python",
   "pygments_lexer": "ipython3",
   "version": "3.11.5"
  }
 },
 "nbformat": 4,
 "nbformat_minor": 2
}
